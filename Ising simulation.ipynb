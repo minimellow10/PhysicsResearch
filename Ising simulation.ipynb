{
 "cells": [
  {
   "cell_type": "markdown",
   "source": [],
   "metadata": {}
  },
  {
   "cell_type": "markdown",
   "source": [
    "# Ising model"
   ],
   "metadata": {}
  },
  {
   "cell_type": "markdown",
   "source": [
    "This code simulates the 2d Ising model using Monte Carlo methods. This is a simple physical problem where we take a square lattice of points with a magnet at each point. These magnets can either point up or down and the interactions are such that neighboring magnets like to be aligned. This would all be very simple if the system were not at finite temperature. The magnets would flip to end up all aligned. However the energy coming from the finite temperature may randomly cause some magnets to flip and perturb the system, which can prevent it from reaching a uniform state. If the temperature is low enough the magnets gradually form bigger and bigger islands where they are aligned and if we wait long enough they all become aligned. If the temperature if high enough the system never uniformizes because there is a balance between wanted flips and unwanted thermal flips. The transition between those two possible outcomes happens at a known temperature of 2.269 degrees (in the units that we use). The goal of the project is to give a picture of the state to a neural network and it can tell us if we are above or below the critical temperature."
   ],
   "metadata": {}
  },
  {
   "cell_type": "markdown",
   "source": [
    "The algorithm that is used to simulate the 2d Ising is called Metropolis. The steps go as follows:\n",
    "1. Initialize the lattice randomly with 1 or -1 at each site. 1 is for when the magnet points up and -1 if for when it points down.\n",
    "2. Randomly select a point on the grid. \n",
    "3. Calculate the change in the energy that would occur if we flipped the magnet. The energy is given by $E=-\\sum_{i,j}s_i s_j$, where we sum over all pairs of points on the lattice and $s_i$ is $\\pm 1$. If the change is negative, the system likes the change so the magnet is indeed flipped. If the change is positive, there is still a probability of $e^{-\\frac{\\Delta E}{T}}$ that the magnet gets flipped because of thermal fluctuations. Here $T$ is the temperature and $\\Delta E$ is the change in energy that occurs when we flip the magnet.\n",
    "4. Repeat step 3 for a number of steps equal to the size of a side of the lattice. This is considered as one time step. (This is where we update the value for the magnetization and the energy if interested in these quantites.)\n",
    "5. Repeat steps 3 and 4 for a given number of time steps.\n",
    "6. Plot, print the result.\n"
   ],
   "metadata": {}
  },
  {
   "cell_type": "markdown",
   "source": [
    "After the simulation, we use the results to train a neural network that determines if the state of the Ising system corresponds to a temperature higher or lower than the critical temperature."
   ],
   "metadata": {}
  },
  {
   "cell_type": "markdown",
   "source": [
    "# Simulation of the Ising model"
   ],
   "metadata": {}
  },
  {
   "cell_type": "markdown",
   "source": [
    "We first import the usual libraries in order to do the simulation."
   ],
   "metadata": {}
  },
  {
   "cell_type": "code",
   "execution_count": 1,
   "source": [
    "import numpy as np\n",
    "import matplotlib.pyplot as plt\n",
    "from matplotlib import colors\n",
    "import math as m\n",
    "import random\n",
    "\n",
    "%matplotlib inline"
   ],
   "outputs": [],
   "metadata": {}
  },
  {
   "cell_type": "markdown",
   "source": [
    "The first function to create makes a square grid (simply a matrix) of a fixed size with random values at each element taken from -1 or 1. "
   ],
   "metadata": {}
  },
  {
   "cell_type": "code",
   "execution_count": 2,
   "source": [
    "def initialize_grid(dim):\n",
    "    '''\n",
    "    Create a dim by dim array of numbers chosen randomly from -1 or 1.\n",
    "    '''\n",
    "    grid = np.random.choice([-1,1], size = (dim,dim))\n",
    "    \n",
    "    return grid"
   ],
   "outputs": [],
   "metadata": {}
  },
  {
   "cell_type": "markdown",
   "source": [
    "Next we make a function to plot a generic grid and add the option of putting a title. We need to create a color map where -1 is black and 1 is white. This will be useful to visualize results."
   ],
   "metadata": {}
  },
  {
   "cell_type": "code",
   "execution_count": 3,
   "source": [
    "def plot_grid(grid, title=None):\n",
    "    '''\n",
    "    Plot grid with -1 being black and 1 being white with an option to add a title.\n",
    "    '''\n",
    "    # Create discrete colormap\n",
    "    cmap = colors.ListedColormap(['black', 'white'])\n",
    "    bounds = [-2,0,2]\n",
    "    norm = colors.BoundaryNorm(bounds, cmap.N)\n",
    "    \n",
    "    # Make plot\n",
    "    fig, ax = plt.subplots()\n",
    "    ax.imshow(grid, cmap = cmap, norm=norm)\n",
    "    ax.set_title(title)"
   ],
   "outputs": [],
   "metadata": {}
  },
  {
   "cell_type": "markdown",
   "source": [
    "This is a function that computes the magnetization of a grid. This is simply the sum of all the elements and it is useful to classify the phase of the model."
   ],
   "metadata": {}
  },
  {
   "cell_type": "code",
   "execution_count": 4,
   "source": [
    "def compute_magnetization(grid):\n",
    "    return np.sum(grid)"
   ],
   "outputs": [],
   "metadata": {}
  },
  {
   "cell_type": "markdown",
   "source": [
    "This is one of the main functions of the algorithm. You give it a grid and two numbers that determine a position on the grid. The function first determines where the neighboring elements are. This is important because the grid has to be periodic so border elements are special. The change in energy due to reversing this element is then computed by adding all the contributions from the neighbors. Each one contributes by $$\\Delta E=2*grid(i, j)*grid(i_{neighbor}, j_{neighbor})$$"
   ],
   "metadata": {}
  },
  {
   "cell_type": "code",
   "execution_count": 5,
   "source": [
    "def energy_change(grid, i, j):\n",
    "    '''\n",
    "    Assums a flip of the spin at position (i,j) on the grid and computes the change of\n",
    "    energy due to it.\n",
    "    Returns the change in energy.\n",
    "    '''\n",
    "    n = grid.shape[0]\n",
    "    if (i==0):\n",
    "        left = n-1\n",
    "    else:\n",
    "        left = i-1\n",
    "    if (i==n-1):\n",
    "        right = 0\n",
    "    else:\n",
    "        right = i+1\n",
    "    if (j==0):\n",
    "        down = n-1\n",
    "    else:\n",
    "        down = j-1\n",
    "    if (j==n-1):\n",
    "        up = 0\n",
    "    else:\n",
    "        up = j+1\n",
    "    dE = 2 * grid[i,j] * (grid[left,j] + grid[right,j] + grid[i,up] + grid[i,down])\n",
    "    return dE"
   ],
   "outputs": [],
   "metadata": {}
  },
  {
   "cell_type": "markdown",
   "source": [
    "This function picks a random element of the grid. The actual output is the indices of the element."
   ],
   "metadata": {}
  },
  {
   "cell_type": "code",
   "execution_count": 6,
   "source": [
    "def random_spin(grid):\n",
    "    '''\n",
    "    Choose randomly the position of one entry in the array grid.\n",
    "    Returns the location of the spin.\n",
    "    '''\n",
    "    n = grid.shape[0]\n",
    "    x_index = random.randint(0, n-1)\n",
    "    y_index = random.randint(0, n-1)\n",
    "    return (x_index, y_index)"
   ],
   "outputs": [],
   "metadata": {}
  },
  {
   "cell_type": "markdown",
   "source": [
    "This is the second important function of the algorithm. It first uses the previously defined function to pick a random point on the grid. It then starts by computing the change in energy due to reversing this element by using the previously defined function. If the change is negative the element is indeed flipped. If not there is a probability $e^{-\\Delta E/T}$ that the flip still happens. The output is the grid with (potentially) some random element reversed."
   ],
   "metadata": {}
  },
  {
   "cell_type": "code",
   "execution_count": 7,
   "source": [
    "def spin_flip(grid, T):\n",
    "    '''\n",
    "    Picks randomly one spin on the grid and calculates the change in energy due to flipping the spin.\n",
    "    If change is negative, flip the spin.\n",
    "    If change is positive, flip it only with some probability.\n",
    "    Returns the new grid with the spin potentially flipped.\n",
    "    '''\n",
    "    i, j = random_spin(grid)\n",
    "    delta_E = energy_change(grid, i, j)\n",
    "    if delta_E < 0:\n",
    "        grid[i,j] = -grid[i,j]\n",
    "    elif random.random() < m.exp(-delta_E/T):\n",
    "        grid[i,j] = -grid[i,j]\n",
    "    return grid"
   ],
   "outputs": [],
   "metadata": {}
  },
  {
   "cell_type": "markdown",
   "source": [
    "This is the main function of the simulation where we put everything together to run the algorithm. We start by initialize a random grid. We then run the random flip n times for one time step and then repeat the process for a determined number of time steps. The final grid is returned along with (potentially) the initial and final configurations."
   ],
   "metadata": {}
  },
  {
   "cell_type": "code",
   "execution_count": 8,
   "source": [
    "def ising_simulation(n, T, steps=100, plot=False):\n",
    "    '''\n",
    "    Simulate 2d Ising model.\n",
    "    Inputs:\n",
    "    - n: size of the square lattice is n by n\n",
    "    - T: temperature\n",
    "    - steps: number of flips the algorithm tries to make\n",
    "    - plot: decide if the grid is plotted at the beginning and the end of the simulation\n",
    "    Returns:\n",
    "    - the final grid\n",
    "    - if plot is True, the initial and final grids in two plots\n",
    "    '''\n",
    "    grid = initialize_grid(n)\n",
    "    \n",
    "    if plot==True:\n",
    "        plot_grid(grid, title='Initial grid')\n",
    "        \n",
    "    for i in range(steps):\n",
    "        for i in range(n):\n",
    "            grid = spin_flip(grid, T)\n",
    "            \n",
    "    if plot==True:\n",
    "        plot_grid(grid, title='Final grid')\n",
    "        \n",
    "    return grid"
   ],
   "outputs": [],
   "metadata": {}
  },
  {
   "cell_type": "code",
   "execution_count": 9,
   "source": [
    "ising_simulation(50, 3, 3000, plot=True)"
   ],
   "outputs": [
    {
     "output_type": "execute_result",
     "data": {
      "text/plain": [
       "array([[ 1,  1,  1, ..., -1, -1,  1],\n",
       "       [ 1, -1,  1, ..., -1, -1,  1],\n",
       "       [-1,  1,  1, ..., -1,  1,  1],\n",
       "       ...,\n",
       "       [-1,  1, -1, ..., -1, -1, -1],\n",
       "       [-1,  1,  1, ...,  1, -1, -1],\n",
       "       [ 1,  1,  1, ..., -1, -1, -1]])"
      ]
     },
     "metadata": {},
     "execution_count": 9
    },
    {
     "output_type": "display_data",
     "data": {
      "image/png": "[encoded data removed]",
      "text/plain": [
       "<Figure size 432x288 with 1 Axes>"
      ]
     },
     "metadata": {
      "needs_background": "light"
     }
    },
    {
     "output_type": "display_data",
     "data": {
      "image/png": "[encoded data removed]",
      "text/plain": [
       "<Figure size 432x288 with 1 Axes>"
      ]
     },
     "metadata": {
      "needs_background": "light"
     }
    }
   ],
   "metadata": {}
  },
  {
   "cell_type": "markdown",
   "source": [
    "# Generating data"
   ],
   "metadata": {}
  },
  {
   "cell_type": "markdown",
   "source": [
    "The code that we have so far simulates the Ising model and gives a grid back but we want to automate the production of data. The simulation is ran for different values of temperature evenly spread in a determined interval and for a fixed number of repetitions. The function records the final grids as a list of matrices and it also reshapes these grid into vectors and stacks them together to get the right form necessary for machine learning algorithms. The final step is to record in a vector if the temperature is above or below the critical one. The function prints the iteration as it runs to let us see what is going on."
   ],
   "metadata": {}
  },
  {
   "cell_type": "code",
   "execution_count": 10,
   "source": [
    "def generate_data(size, num_temp, temp_min=0.1, temp_max=5, repeat=1, max_iter=None):\n",
    "    '''\n",
    "    Generate data from simulating the Ising model at different temperatures.\n",
    "    The temperatures are spread equally between temp_min and temp_max.\n",
    "    \n",
    "    Input:\n",
    "    - size: the grid is size x size\n",
    "    - num_temp: number of different temperatures to consider\n",
    "    - temp_min: minimum temperature to take\n",
    "    - temp_max: maximum temperature\n",
    "    - repeat: repeat the calculation for each temperature this number of times\n",
    "    - max_iter: number of time steps in the simulation of the Ising model (default is size^2)\n",
    "    \n",
    "    Output:\n",
    "    - raw_X: list of the arrays obtained from simulating the Ising (there are num_temp*repeat elements)\n",
    "    - X: (num_temp, size^2) array where each line is a vectorized version of the grid and every line is a different run\n",
    "    - y: (num_temp, 1) array that says if the simulation is made above the critical temps (y=1) or below (y=0)\n",
    "    '''\n",
    "    \n",
    "    if max_iter==None:\n",
    "        max_iter = size**2\n",
    "\n",
    "    raw_X = []\n",
    "    X = np.zeros((num_temp*repeat, size**2))\n",
    "    y = np.zeros((num_temp*repeat, 1))\n",
    "    temps = np.linspace(temp_min, temp_max, num = num_temp)\n",
    "\n",
    "    for i in range(repeat):\n",
    "        for j in range(num_temp):\n",
    "            grid = ising_simulation(size, temps[j], max_iter)\n",
    "            raw_X.append(grid)\n",
    "            X[i*num_temp+j,:] = grid.reshape(1,grid.size)\n",
    "            y[i*num_temp+j,:] = (temps[j] > 2.269)\n",
    "            print(i*num_temp+j, end=\"\\r\")\n",
    "    \n",
    "    return raw_X, X, y"
   ],
   "outputs": [],
   "metadata": {}
  },
  {
   "cell_type": "markdown",
   "source": [
    "This generates data to use later to train the neural network for a grid of 25 by 25."
   ],
   "metadata": {}
  },
  {
   "cell_type": "code",
   "execution_count": 11,
   "source": [
    "raw_X, X, y = generate_data(size=25, num_temp=40, repeat=20)"
   ],
   "outputs": [
    {
     "output_type": "stream",
     "name": "stdout",
     "text": [
      "799\r"
     ]
    }
   ],
   "metadata": {}
  },
  {
   "cell_type": "markdown",
   "source": [
    "This uses the same grid and generates less data to use as a dev/test set."
   ],
   "metadata": {}
  },
  {
   "cell_type": "code",
   "execution_count": 12,
   "source": [
    "raw_X_test, X_test, y_test = generate_data(size=25, num_temp=20, repeat=10)"
   ],
   "outputs": [
    {
     "output_type": "stream",
     "name": "stdout",
     "text": [
      "199\r"
     ]
    }
   ],
   "metadata": {}
  },
  {
   "cell_type": "code",
   "execution_count": 13,
   "source": [
    "i = 70\n",
    "plot_grid(raw_X[i])\n",
    "y[i]"
   ],
   "outputs": [
    {
     "output_type": "execute_result",
     "data": {
      "text/plain": [
       "array([1.])"
      ]
     },
     "metadata": {},
     "execution_count": 13
    },
    {
     "output_type": "display_data",
     "data": {
      "image/png": "[encoded data removed]",
      "text/plain": [
       "<Figure size 432x288 with 1 Axes>"
      ]
     },
     "metadata": {
      "needs_background": "light"
     }
    }
   ],
   "metadata": {
    "scrolled": true
   }
  },
  {
   "cell_type": "markdown",
   "source": [
    "# Using keras"
   ],
   "metadata": {}
  },
  {
   "cell_type": "markdown",
   "source": [
    "Now we want to train a neural network using keras to predict the labels y from the data X. We first import the necessary libraries and functions."
   ],
   "metadata": {}
  },
  {
   "cell_type": "code",
   "execution_count": 14,
   "source": [
    "import tensorflow as tf\n",
    "from tensorflow import keras\n",
    "from keras.models import Sequential\n",
    "from keras.layers import Dense, Activation\n",
    "from keras.regularizers import l2"
   ],
   "outputs": [],
   "metadata": {}
  },
  {
   "cell_type": "markdown",
   "source": [
    "The first way of doing the training is simply to do it directly. We consider a network with two hidden layers (plus the input and output layers). Since there is a lot of randomness in the training (we don't train long enough to get rid of that) it is better to run the taining many times, keep track of the errors each time and average them at the end. This run uses the optimal hyperparameters found using tuning."
   ],
   "metadata": {}
  },
  {
   "cell_type": "code",
   "execution_count": 15,
   "source": [
    "# Initialize list of training and test errors\n",
    "train_errors = []\n",
    "test_errors = []\n",
    "\n",
    "\n",
    "# Loop to run model many times and average over results\n",
    "\n",
    "for i in range(15):\n",
    "\n",
    "    # Print iteration to make sure everything works\n",
    "    print(i, end=\"\\r\")\n",
    "    \n",
    "    # Initialize model\n",
    "    model = Sequential()\n",
    "\n",
    "    # Add hidden layer with 32 units and rlu activation. Add output layer with sigmoid activation.\n",
    "    model.add(Dense(25, activation='relu', kernel_regularizer=l2(0.1), input_dim=25**2))\n",
    "    model.add(Dense(15, activation='relu', kernel_regularizer=l2(0.1)))\n",
    "    model.add(Dense(1, activation='sigmoid'))\n",
    "\n",
    "    # Compile model\n",
    "    model.compile(optimizer='Adam', loss='binary_crossentropy', metrics=['accuracy'])\n",
    "\n",
    "    # Fit model\n",
    "    model.fit(X, y, epochs=40, verbose=0)\n",
    "\n",
    "    # Add training and test errors to lists\n",
    "    train_errors.append(model.evaluate(X,y,verbose=0)[1])\n",
    "    test_errors.append(model.evaluate(X_test,y_test,verbose=0)[1])\n",
    "    \n",
    "# Average errors\n",
    "avg_train_error = np.mean(train_errors)\n",
    "std_train_error = np.std(train_errors)\n",
    "avg_test_error = np.mean(test_errors)\n",
    "std_test_error = np.std(test_errors)\n",
    "\n",
    "print('Average of training errors: '+str(avg_train_error))\n",
    "print('Standard deviation of training errors: '+str(std_train_error))\n",
    "print('Average of test errors: '+str(avg_test_error))\n",
    "print('Standard deviation of test errors: '+str(std_test_error))"
   ],
   "outputs": [
    {
     "output_type": "stream",
     "name": "stdout",
     "text": [
      "Average of training errors: 0.9983333230018616\n",
      "Standard deviation of training errors: 0.0010865326980992183\n",
      "Average of test errors: 0.9190000057220459\n",
      "Standard deviation of test errors: 0.012274641839515309\n"
     ]
    }
   ],
   "metadata": {}
  },
  {
   "cell_type": "markdown",
   "source": [
    "For a single trained model this is a way of seeing which test example was classified incorrectly."
   ],
   "metadata": {}
  },
  {
   "cell_type": "code",
   "execution_count": 16,
   "source": [
    "(model.predict(X_test)>0.5)==y_test"
   ],
   "outputs": [
    {
     "output_type": "execute_result",
     "data": {
      "text/plain": [
       "array([[ True],\n",
       "       [ True],\n",
       "       [ True],\n",
       "       [ True],\n",
       "       [ True],\n",
       "       [False],\n",
       "       [ True],\n",
       "       [ True],\n",
       "       [False],\n",
       "       [ True],\n",
       "       [ True],\n",
       "       [ True],\n",
       "       [ True],\n",
       "       [ True],\n",
       "       [ True],\n",
       "       [ True],\n",
       "       [ True],\n",
       "       [ True],\n",
       "       [ True],\n",
       "       [ True],\n",
       "       [ True],\n",
       "       [ True],\n",
       "       [ True],\n",
       "       [ True],\n",
       "       [False],\n",
       "       [ True],\n",
       "       [ True],\n",
       "       [ True],\n",
       "       [False],\n",
       "       [False],\n",
       "       [ True],\n",
       "       [ True],\n",
       "       [False],\n",
       "       [ True],\n",
       "       [ True],\n",
       "       [ True],\n",
       "       [ True],\n",
       "       [ True],\n",
       "       [ True],\n",
       "       [ True],\n",
       "       [ True],\n",
       "       [ True],\n",
       "       [ True],\n",
       "       [ True],\n",
       "       [ True],\n",
       "       [ True],\n",
       "       [ True],\n",
       "       [False],\n",
       "       [False],\n",
       "       [False],\n",
       "       [False],\n",
       "       [ True],\n",
       "       [ True],\n",
       "       [ True],\n",
       "       [ True],\n",
       "       [ True],\n",
       "       [ True],\n",
       "       [ True],\n",
       "       [ True],\n",
       "       [ True],\n",
       "       [ True],\n",
       "       [ True],\n",
       "       [ True],\n",
       "       [ True],\n",
       "       [ True],\n",
       "       [ True],\n",
       "       [ True],\n",
       "       [ True],\n",
       "       [False],\n",
       "       [False],\n",
       "       [ True],\n",
       "       [ True],\n",
       "       [ True],\n",
       "       [ True],\n",
       "       [ True],\n",
       "       [ True],\n",
       "       [ True],\n",
       "       [ True],\n",
       "       [ True],\n",
       "       [ True],\n",
       "       [ True],\n",
       "       [ True],\n",
       "       [ True],\n",
       "       [ True],\n",
       "       [ True],\n",
       "       [ True],\n",
       "       [ True],\n",
       "       [ True],\n",
       "       [False],\n",
       "       [ True],\n",
       "       [ True],\n",
       "       [ True],\n",
       "       [ True],\n",
       "       [ True],\n",
       "       [ True],\n",
       "       [ True],\n",
       "       [ True],\n",
       "       [ True],\n",
       "       [ True],\n",
       "       [ True],\n",
       "       [ True],\n",
       "       [ True],\n",
       "       [ True],\n",
       "       [ True],\n",
       "       [ True],\n",
       "       [ True],\n",
       "       [ True],\n",
       "       [ True],\n",
       "       [ True],\n",
       "       [ True],\n",
       "       [ True],\n",
       "       [ True],\n",
       "       [ True],\n",
       "       [ True],\n",
       "       [ True],\n",
       "       [ True],\n",
       "       [ True],\n",
       "       [ True],\n",
       "       [ True],\n",
       "       [ True],\n",
       "       [ True],\n",
       "       [ True],\n",
       "       [ True],\n",
       "       [ True],\n",
       "       [ True],\n",
       "       [ True],\n",
       "       [ True],\n",
       "       [ True],\n",
       "       [ True],\n",
       "       [False],\n",
       "       [False],\n",
       "       [ True],\n",
       "       [ True],\n",
       "       [ True],\n",
       "       [ True],\n",
       "       [ True],\n",
       "       [ True],\n",
       "       [ True],\n",
       "       [ True],\n",
       "       [ True],\n",
       "       [ True],\n",
       "       [ True],\n",
       "       [ True],\n",
       "       [ True],\n",
       "       [ True],\n",
       "       [ True],\n",
       "       [ True],\n",
       "       [ True],\n",
       "       [ True],\n",
       "       [False],\n",
       "       [ True],\n",
       "       [ True],\n",
       "       [ True],\n",
       "       [ True],\n",
       "       [ True],\n",
       "       [ True],\n",
       "       [ True],\n",
       "       [ True],\n",
       "       [ True],\n",
       "       [ True],\n",
       "       [ True],\n",
       "       [ True],\n",
       "       [ True],\n",
       "       [ True],\n",
       "       [ True],\n",
       "       [ True],\n",
       "       [ True],\n",
       "       [ True],\n",
       "       [ True],\n",
       "       [ True],\n",
       "       [ True],\n",
       "       [ True],\n",
       "       [ True],\n",
       "       [ True],\n",
       "       [ True],\n",
       "       [ True],\n",
       "       [ True],\n",
       "       [ True],\n",
       "       [ True],\n",
       "       [ True],\n",
       "       [ True],\n",
       "       [ True],\n",
       "       [ True],\n",
       "       [ True],\n",
       "       [ True],\n",
       "       [ True],\n",
       "       [ True],\n",
       "       [False],\n",
       "       [False],\n",
       "       [False],\n",
       "       [ True],\n",
       "       [ True],\n",
       "       [ True],\n",
       "       [ True],\n",
       "       [ True],\n",
       "       [ True],\n",
       "       [ True],\n",
       "       [ True],\n",
       "       [ True],\n",
       "       [ True]])"
      ]
     },
     "metadata": {},
     "execution_count": 16
    }
   ],
   "metadata": {}
  },
  {
   "cell_type": "code",
   "execution_count": 17,
   "source": [
    "plot_grid(raw_X_test[13])\n",
    "y[13]"
   ],
   "outputs": [
    {
     "output_type": "execute_result",
     "data": {
      "text/plain": [
       "array([0.])"
      ]
     },
     "metadata": {},
     "execution_count": 17
    },
    {
     "output_type": "display_data",
     "data": {
      "image/png": "[encoded data removed]",
      "text/plain": [
       "<Figure size 432x288 with 1 Axes>"
      ]
     },
     "metadata": {
      "needs_background": "light"
     }
    }
   ],
   "metadata": {}
  },
  {
   "cell_type": "markdown",
   "source": [
    "# Tuning hyperparameters"
   ],
   "metadata": {}
  },
  {
   "cell_type": "markdown",
   "source": [
    "Training the model is not enough. there are a lot of parameters to vary and doing it by hand is cumbersome so we can automate it a little bit. This function takes in various parameters in the training along with the data and it trains the neural network. It outputs the parameters used and the test accuracy to we can use it in a loop to find the best hyperparameters."
   ],
   "metadata": {}
  },
  {
   "cell_type": "code",
   "execution_count": 18,
   "source": [
    "def deep_nn(X, y, X_test, y_test, layer1=10, layer2=10, lambd=0.05, num_epochs=50):\n",
    "\n",
    "    # Initialize list of training and test errors\n",
    "    train_errors = []\n",
    "    test_errors = []\n",
    "\n",
    "\n",
    "    # Loop to run model many times and average over results\n",
    "\n",
    "    for i in range(15):\n",
    "\n",
    "        # Print iteration to make sure everything works\n",
    "        print(i, end=\"\\r\")\n",
    "        \n",
    "        # Initialize model\n",
    "        model = Sequential()\n",
    "\n",
    "        # Add hidden layer with 32 units and rlu activation. Add output layer with sigmoid activation.\n",
    "        model.add(Dense(layer1, activation='relu', kernel_regularizer=l2(lambd), input_dim=25**2))\n",
    "        model.add(Dense(layer2, activation='relu', kernel_regularizer=l2(lambd)))\n",
    "        model.add(Dense(1, activation='sigmoid'))\n",
    "\n",
    "        # Compile model\n",
    "        model.compile(optimizer='Adam', loss='binary_crossentropy', metrics=['accuracy'])\n",
    "\n",
    "        # Fit model\n",
    "        model.fit(X, y, epochs=num_epochs, verbose=0)\n",
    "\n",
    "        # Add training and test errors to lists\n",
    "        train_errors.append(model.evaluate(X,y,verbose=0)[1])\n",
    "        test_errors.append(model.evaluate(X_test,y_test,verbose=0)[1])\n",
    "    \n",
    "    \n",
    "    print('Average of test errors for '+str(layer1)+' units in layer 1, '+str(layer2)+' units in layer 2, a regularization of '\n",
    "      +str(lambd)+' and '+str(num_epochs)+' epochs: '+str(np.mean(test_errors)))"
   ],
   "outputs": [],
   "metadata": {}
  },
  {
   "cell_type": "markdown",
   "source": [
    "Here we run the model for different values of the regularization parameter and it is clear that more regularization is better. There must be an upper bound at some point but it is not clear yet what it is."
   ],
   "metadata": {}
  },
  {
   "cell_type": "code",
   "execution_count": 19,
   "source": [
    "for lambd in [0, 0.05, 0.1]:\n",
    "            \n",
    "        deep_nn(X,y,X_test,y_test, lambd=lambd)"
   ],
   "outputs": [
    {
     "output_type": "stream",
     "name": "stdout",
     "text": [
      "Average of test errors for 10 units in layer 1, 10 units in layer 2, a regularization of 0 and 50 epochs: 0.7696666677792867\n",
      "Average of test errors for 10 units in layer 1, 10 units in layer 2, a regularization of 0.05 and 50 epochs: 0.8606666684150696\n",
      "Average of test errors for 10 units in layer 1, 10 units in layer 2, a regularization of 0.1 and 50 epochs: 0.8993333299954732\n"
     ]
    }
   ],
   "metadata": {}
  },
  {
   "cell_type": "markdown",
   "source": [
    "We train the model for different sizes of the first hidden layer to see how much it impacts the accuracy. It looks like a bigger layer increases pretty well the efficiency of the model. Increasing more could be even better, up to a point."
   ],
   "metadata": {}
  },
  {
   "cell_type": "code",
   "execution_count": 20,
   "source": [
    "for layer1 in [10, 15, 20]:\n",
    "    \n",
    "        deep_nn(X,y,X_test,y_test, layer1)"
   ],
   "outputs": [
    {
     "output_type": "stream",
     "name": "stdout",
     "text": [
      "Average of test errors for 10 units in layer 1, 10 units in layer 2, a regularization of 0.05 and 50 epochs: 0.8890000025431315\n",
      "Average of test errors for 15 units in layer 1, 10 units in layer 2, a regularization of 0.05 and 50 epochs: 0.905999998251597\n",
      "Average of test errors for 20 units in layer 1, 10 units in layer 2, a regularization of 0.05 and 50 epochs: 0.9126666744550069\n"
     ]
    }
   ],
   "metadata": {}
  },
  {
   "cell_type": "markdown",
   "source": [
    "Now we train the model for a different number of epochs and see that even if doing early stopping helps a little bit it is not the main solution, compared to regularization for example."
   ],
   "metadata": {}
  },
  {
   "cell_type": "code",
   "execution_count": 21,
   "source": [
    "for num_epochs in [40, 50, 60]:\n",
    "    \n",
    "    deep_nn(X,y,X_test,y_test, num_epochs=num_epochs)"
   ],
   "outputs": [
    {
     "output_type": "stream",
     "name": "stdout",
     "text": [
      "Average of test errors for 10 units in layer 1, 10 units in layer 2, a regularization of 0.05 and 40 epochs: 0.8713333328564962\n",
      "Average of test errors for 10 units in layer 1, 10 units in layer 2, a regularization of 0.05 and 50 epochs: 0.8330000003178915\n",
      "Average of test errors for 10 units in layer 1, 10 units in layer 2, a regularization of 0.05 and 60 epochs: 0.8819999972979228\n"
     ]
    }
   ],
   "metadata": {}
  },
  {
   "cell_type": "markdown",
   "source": [
    "# Experiment with other data"
   ],
   "metadata": {}
  },
  {
   "cell_type": "markdown",
   "source": [
    "## More data"
   ],
   "metadata": {}
  },
  {
   "cell_type": "markdown",
   "source": [
    "It's interesting to see if getting more data with the same parameters for the model will give better results so we generate new data to fit the model. The result is actually a little bit less accurate so we would need to tune more the parameters. "
   ],
   "metadata": {}
  },
  {
   "cell_type": "code",
   "execution_count": null,
   "source": [
    "raw_X, X, y = generate_data(size=25, num_temp=45, repeat=25)"
   ],
   "outputs": [
    {
     "output_type": "stream",
     "name": "stdout",
     "text": [
      "610\r"
     ]
    }
   ],
   "metadata": {}
  },
  {
   "cell_type": "code",
   "execution_count": null,
   "source": [
    "deep_nn(X, y, X_test, y_test, layer1=25, layer2=15, lambd=0.1, num_epochs=40)"
   ],
   "outputs": [],
   "metadata": {}
  },
  {
   "cell_type": "markdown",
   "source": [
    "## Longer simulation"
   ],
   "metadata": {}
  },
  {
   "cell_type": "markdown",
   "source": [
    "One other thing to try is simulating the Ising model for a longer period of time. We keep the same amount of data as the original case but simulate longer and see if it is easier to classify the phases."
   ],
   "metadata": {}
  },
  {
   "cell_type": "code",
   "execution_count": null,
   "source": [
    "raw_X, X, y = generate_data(size=25, num_temp=40, repeat=20, max_iter=10*25*25)"
   ],
   "outputs": [],
   "metadata": {}
  },
  {
   "cell_type": "markdown",
   "source": [
    "We first test the neural network on the old test set (simulated for a shorter time) to see how it reacts. The neural network seems to do worse."
   ],
   "metadata": {}
  },
  {
   "cell_type": "code",
   "execution_count": null,
   "source": [
    "deep_nn(X, y, X_test, y_test, layer1=25, layer2=15, lambd=0.1, num_epochs=40)"
   ],
   "outputs": [],
   "metadata": {}
  },
  {
   "cell_type": "markdown",
   "source": [
    "We can also check if evaluating the model on data that stops at the same time step is good. This should at least be better since the test set looks more like the training set and it indeed is better."
   ],
   "metadata": {}
  },
  {
   "cell_type": "code",
   "execution_count": null,
   "source": [
    "raw_X_test, X_test, y_test = generate_data(size=25, num_temp=20, repeat=10, max_iter=10*25*25)\n",
    "deep_nn(X, y, X_test, y_test, layer1=25, layer2=15, lambd=0.1, num_epochs=40)"
   ],
   "outputs": [],
   "metadata": {}
  },
  {
   "cell_type": "code",
   "execution_count": null,
   "source": [
    "plot_grid(raw_X_test[10])\n",
    "y[10]"
   ],
   "outputs": [],
   "metadata": {}
  },
  {
   "cell_type": "code",
   "execution_count": null,
   "source": [
    "plot_grid(initialize_grid(25))"
   ],
   "outputs": [],
   "metadata": {}
  },
  {
   "cell_type": "code",
   "execution_count": null,
   "source": [],
   "outputs": [],
   "metadata": {}
  },
  {
   "cell_type": "code",
   "execution_count": null,
   "source": [],
   "outputs": [],
   "metadata": {}
  }
 ],
 "metadata": {
  "kernelspec": {
   "display_name": "Python 3",
   "language": "python",
   "name": "python3"
  },
  "language_info": {
   "codemirror_mode": {
    "name": "ipython",
    "version": 3
   },
   "file_extension": ".py",
   "mimetype": "text/x-python",
   "name": "python",
   "nbconvert_exporter": "python",
   "pygments_lexer": "ipython3",
   "version": "3.7.7"
  }
 },
 "nbformat": 4,
 "nbformat_minor": 2
}